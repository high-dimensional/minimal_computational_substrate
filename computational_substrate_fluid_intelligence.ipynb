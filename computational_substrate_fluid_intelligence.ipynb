{
 "cells": [
  {
   "cell_type": "code",
   "execution_count": 137,
   "metadata": {},
   "outputs": [],
   "source": [
    "import cv2\n",
    "import glob\n",
    "import matplotlib\n",
    "import os\n",
    "import scipy\n",
    "import shutil\n",
    "import skimage\n",
    "import numpy as np\n",
    "import pandas as pd\n",
    "import seaborn as sns\n",
    "import matplotlib.pyplot as plt\n",
    "from monai.metrics import compute_hausdorff_distance\n",
    "from scipy.stats import chi2_contingency, mannwhitneyu, pearsonr\n",
    "from sewar.full_ref import ergas, hausdorff_distance\n",
    "from skimage.metrics import normalized_mutual_information as nmi\n",
    "from sklearn.linear_model import LinearRegression\n",
    "from statsmodels.stats.multitest import fdrcorrection"
   ]
  },
  {
   "cell_type": "code",
   "execution_count": 2,
   "metadata": {},
   "outputs": [],
   "source": [
    "def cogniprint(df_h):\n",
    "    c_list = []\n",
    "    for c in df_h.columns[10:22]:\n",
    "        c_list.append(df_h[c].sum())\n",
    "    #select responses\n",
    "    diff_df = pd.DataFrame(df_h.columns[10:22], columns = ['test'])\n",
    "    diff_df['n_correct'] = c_list\n",
    "    diff_df.sort_values('n_correct', ascending=False, inplace=True)\n",
    "    diff_df.reset_index(inplace=True)\n",
    "    # empty matrix\n",
    "    df_m = pd.DataFrame(np.zeros((12, 8)))\n",
    "    df_m.index = diff_df['index'] + 1\n",
    "    df_m.columns = np.arange(1, 9)\n",
    "    # fill matrix\n",
    "    for i in df_m.index:\n",
    "        col_group = df_h.columns[df_h.columns.str.contains(('r'+str(i)+'_'))]\n",
    "        for col in col_group:\n",
    "            res = int(col.split('_')[1])\n",
    "            df_m.at[i,res] = df_h[col].sum()\n",
    "    df_m2 = df_m.T\n",
    "    df_m3 = pd.DataFrame()\n",
    "    for i in df_m2.columns:\n",
    "        i = str(i)\n",
    "        df_m3[i] = df_m2.sort_values(int(i), ascending=False).reset_index(drop=True)[int(i)]\n",
    "    df_m3 = df_m3.T\n",
    "        \n",
    "    return df_m3\n",
    "    \n",
    "\n",
    "def cogniprint_path(df_h, df_f):\n",
    "    df_f = df_f.astype(float, errors='ignore')\n",
    "    df_h = df_h.astype(float, errors='ignore')\n",
    "    c_list = []\n",
    "    for c in df_h.columns[10:22]:\n",
    "        c_list.append(df_h[c].sum())\n",
    "    #select responses\n",
    "    diff_df = pd.DataFrame(df_h.columns[10:22], columns = ['test'])\n",
    "    diff_df['n_correct'] = c_list\n",
    "    diff_df.sort_values('n_correct', ascending=False, inplace=True)\n",
    "    diff_df.reset_index(inplace=True)\n",
    "    # empty matrix\n",
    "    df_hm = pd.DataFrame(np.zeros((12, 8)))\n",
    "    df_hm.index = diff_df['index'] + 1\n",
    "    df_hm.columns = np.arange(1, 9)\n",
    "    df_m = df_hm.copy()\n",
    "    # fill matrix\n",
    "    for i in df_hm.index:\n",
    "        col_group = df_h.columns[df_h.columns.str.contains(('r'+str(i)+'_'))]\n",
    "        for col in col_group:\n",
    "            res = int(col.split('_')[1])\n",
    "            df_hm.at[i,res] = df_h[col].sum()\n",
    "    df_hm2 = df_hm.T\n",
    "    df_hm3 = pd.DataFrame()\n",
    "    # fill path matrix\n",
    "    for i in df_m.index:\n",
    "        col_group = df_h.columns[df_h.columns.str.contains(('r'+str(i)+'_'))]\n",
    "        for col in col_group:\n",
    "            res = int(col.split('_')[1])\n",
    "            df_m.at[i,res] = df_f[col].sum()\n",
    "    df_m2 = df_m.T\n",
    "    df_m3 = pd.DataFrame()\n",
    "    #reindex path test to healthy\n",
    "    for i in df_hm2.columns:\n",
    "        i = str(i)\n",
    "        healthy_col = df_hm2.sort_values(int(i), ascending=False)\n",
    "        path_col = pd.DataFrame(df_m2[int(i)].reindex(index=healthy_col.index))\n",
    "        df_hm3[i] = healthy_col.reset_index(drop=True)[int(i)]\n",
    "        df_m3[i] = path_col.reset_index(drop=True)[int(i)]\n",
    "    df_m3 = df_m3.T\n",
    "    #refill matrix with pathological results\n",
    "        \n",
    "    return df_m3\n",
    "\n",
    "\n",
    "def cogni_stats(df_h, df_f, cogni_h, cogni_f):   \n",
    "    # empty matrix\n",
    "    df_stats_f = pd.DataFrame(np.zeros((12, 8)))\n",
    "    df_stats_f.index = cogni_f.index\n",
    "    df_stats_f.columns = np.arange(1, 9)\n",
    "\n",
    "    for i in range(0,12):\n",
    "        for j in range(0,8):\n",
    "            count = [cogni_f.iloc[i,j], cogni_h.iloc[i,j]]\n",
    "            nobs = [len(df_f), len(df_h)]\n",
    "            stat, pval = proportions_ztest(count, nobs)\n",
    "            df_stats_f.at[(i+1),(j+1)] = pval\n",
    "    df_stats_f = df_stats_f.iloc[12:]\n",
    "    df_stats_f.index = cogni_f.index\n",
    "            \n",
    "    return df_stats_f\n",
    "\n",
    "\n",
    "def register_forms(img1, img2):    # img2 is the standard that forms are registered to\n",
    "    height, width = img2.shape\n",
    "    # Use ORB algorithm to find location and identity of features matching between documents\n",
    "    # ORB is open source\n",
    "    try:\n",
    "        orb_detector = cv2.ORB_create(5000) #was 5000\n",
    "        kp1, d1 = orb_detector.detectAndCompute(img1, None)\n",
    "        kp2, d2 = orb_detector.detectAndCompute(img2, None)\n",
    "        # Matching keypoints are created by drawing a line between them. There will be 20-30% incorrect matches.\n",
    "        # we use Hamming distance as a measure of similarity between two features\n",
    "        # number of bits required to make one feature identical to the other\n",
    "        matcher = cv2.BFMatcher(cv2.NORM_HAMMING, crossCheck=True) # was cv2.NORM_HAMMING, True\n",
    "        matches = matcher.match(d1, d2)\n",
    "        # sort matches by score\n",
    "        no_of_matches = len(matches)\n",
    "        p1 = np.zeros((no_of_matches, 2))\n",
    "        p2 = np.zeros((no_of_matches, 2))\n",
    "        for i in range(len(matches)):\n",
    "            p1[i, :] = kp1[matches[i].queryIdx].pt\n",
    "            p2[i, :] = kp2[matches[i].trainIdx].pt\n",
    "        # calculate homography using Random Sample Consensus (RANSAC)\n",
    "        homography, mask = cv2.findHomography(p1, p2, cv2.RANSAC)\n",
    "        # Transform by warping second onto first image pixel by pixel\n",
    "        transformed_img = cv2.warpPerspective(img1,homography, (width, height), \n",
    "                                              cv2.INTER_CUBIC, cv2.BORDER_CONSTANT, borderValue=(255, 255, 255))\n",
    "       # print('registered')\n",
    "    except:\n",
    "     #   print('registration not possible')\n",
    "        transformed_img = img1\n",
    "        homography = np.nan\n",
    "\n",
    "    return transformed_img, homography\n",
    "\n",
    "\n",
    "def register_ims(files):    \n",
    "    list_test = []\n",
    "    list_tim = []\n",
    "    for f in files['test'].unique():\n",
    "        lama_im = files[(files.test == f) & (files.code == 'lama')]\n",
    "        b = cv2.imread(lama_im.filepath.values[0], cv2.IMREAD_GRAYSCALE)\n",
    "        for j in files['code'].unique():\n",
    "            index_im = files[(files.test == f) & (files.code == j)]\n",
    "            list_test.append(index_im.filename.values[0])\n",
    "            a = cv2.imread(index_im.filepath.values[0], cv2.IMREAD_GRAYSCALE)\n",
    "            trans_img, _ = register_forms(a,b)\n",
    "            list_tim.append(trans_img)\n",
    "    results = dict(zip(list_test, list_tim))\n",
    "    res_df = pd.DataFrame([results]).T\n",
    "    res_df.reset_index(inplace=True)\n",
    "    res_df.columns = ['filename', 't_im']\n",
    "    files = files.merge(res_df, on='filename')\n",
    "    \n",
    "    return files\n",
    "\n",
    "\n",
    "def register_crops(files):\n",
    "    list_test = []\n",
    "    list_tim = []\n",
    "    for f in files['test'].unique():\n",
    "        lama_im = files[(files.test == f) & (files.code == 'lama')]\n",
    "        b = lama_im.crop.values[0]\n",
    "        for j in files['code'].unique():\n",
    "            index_im = files[(files.test == f) & (files.code == j)]\n",
    "            list_test.append(index_im.filename.values[0])\n",
    "            a = index_im.crop.values[0]\n",
    "            trans_img, _ = register_forms(a,b)\n",
    "            list_tim.append(trans_img)\n",
    "    results = dict(zip(list_test, list_tim))\n",
    "    res_df = pd.DataFrame([results]).T\n",
    "    res_df.reset_index(inplace=True)\n",
    "    res_df.columns = ['filename', 't_crop']\n",
    "    files = files.merge(res_df, on='filename')\n",
    "\n",
    "\n",
    "def try_bw_conv(x):\n",
    "    try:\n",
    "        x = cv2.threshold(x, 128, 255, cv2.THRESH_BINARY | cv2.THRESH_OTSU)[1]\n",
    "    except:\n",
    "        x = np.nan\n",
    "    return x\n",
    "\n",
    "\n",
    "def crop_registered_orig(files):\n",
    "    files['crop'] = 0\n",
    "    files.loc[files.test == 1, 'crop'] = files[files.test == 1].t_im.apply(lambda x: x[180:270, 200:340])\n",
    "    files.loc[files.test == 2, 'crop'] = files[files.test == 2].t_im.apply(lambda x: x[190:275, 210:320])\n",
    "    files.loc[files.test == 3, 'crop'] = files[files.test == 3].t_im.apply(lambda x: x[190:270, 210:310])\n",
    "    files.loc[files.test == 4, 'crop'] = files[files.test == 4].t_im.apply(lambda x: x[190:285, 210:330])\n",
    "    files.loc[files.test == 5, 'crop'] = files[files.test == 5].t_im.apply(lambda x: x[210:285, 230:320])\n",
    "    files.loc[files.test == 6, 'crop'] = files[files.test == 6].t_im.apply(lambda x: x[180:265, 250:340])\n",
    "    files.loc[files.test == 7, 'crop'] = files[files.test == 7].t_im.apply(lambda x: x[200:280, 220:300])\n",
    "    files.loc[files.test == 8, 'crop'] = files[files.test == 8].t_im.apply(lambda x: x[200:280, 230:320])\n",
    "    files.loc[files.test == 9, 'crop'] = files[files.test == 9].t_im.apply(lambda x: x[190:280, 220:310])\n",
    "    files.loc[files.test == 10, 'crop'] = files[files.test == 10].t_im.apply(lambda x: x[210:290, 230:310])\n",
    "    files.loc[files.test == 11, 'crop'] = files[files.test == 11].t_im.apply(lambda x: x[210:290, 210:310])\n",
    "    files.loc[files.test == 12, 'crop'] = files[files.test == 12].t_im.apply(lambda x: x[210:290, 230:320])\n",
    "    files['crop_bw'] = files.crop.apply(lambda x: cv2.threshold(x, 128, 255, cv2.THRESH_BINARY | cv2.THRESH_OTSU)[1])\n",
    "    files['crop_bin'] = files['crop_bw']/255\n",
    "   \n",
    "    return files\n",
    "\n",
    "\n",
    "def crop_registered(files):\n",
    "    files['crop'] = 0\n",
    "    files.loc[files.test.str[0:2] == '1_', 'crop'] = files[files.test.str[0:2] == '1_'].t_im.apply(lambda x: x[180:270, 210:320])\n",
    "    files.loc[files.test.str[0] == '2', 'crop'] = files[files.test.str[0] == '2'].t_im.apply(lambda x: x[190:275, 210:320])\n",
    "    files.loc[files.test.str[0] == '3', 'crop'] = files[files.test.str[0] == '3'].t_im.apply(lambda x: x[190:270, 210:310])\n",
    "    files.loc[files.test.str[0] == '4', 'crop'] = files[files.test.str[0] == '4'].t_im.apply(lambda x: x[190:285, 210:330])\n",
    "    files.loc[files.test.str[0] == '5', 'crop'] = files[files.test.str[0] == '5'].t_im.apply(lambda x: x[210:285, 230:320])\n",
    "    files.loc[files.test.str[0] == '6', 'crop'] = files[files.test.str[0] == '6'].t_im.apply(lambda x: x[180:265, 250:350])\n",
    "    files.loc[files.test.str[0] == '7', 'crop'] = files[files.test.str[0] == '7'].t_im.apply(lambda x: x[200:280, 220:300])\n",
    "    files.loc[files.test.str[0] == '8', 'crop'] = files[files.test.str[0] == '8'].t_im.apply(lambda x: x[210:280, 230:320])\n",
    "    files.loc[files.test.str[0] == '9', 'crop'] = files[files.test.str[0] == '9'].t_im.apply(lambda x: x[190:280, 220:310])\n",
    "    files.loc[files.test.str[0:2] == '10', 'crop'] = files[files.test.str[0:2] == '10'].t_im.apply(lambda x: x[210:290, 230:310])\n",
    "    files.loc[files.test.str[0:2] == '11', 'crop'] = files[files.test.str[0:2] == '11'].t_im.apply(lambda x: x[210:290, 210:310])\n",
    "    files.loc[files.test.str[0:2] == '12', 'crop'] = files[files.test.str[0:2] == '12'].t_im.apply(lambda x: x[210:290, 230:320])\n",
    "    files['crop_bw'] = files.crop.apply(lambda x: try_bw_conv(x))\n",
    "    files['crop_bin'] = files['crop_bw']/255\n",
    "\n",
    "    return files\n",
    "\n",
    "\n",
    "def get_final_scores_noise(files, metric, ascending=True):\n",
    "    files['test_no'] = files.test.apply(lambda x: int(x.split('_')[0]))\n",
    "    files_scores = files[files.code != 'lama'].sort_values(['test_no', 'run', metric], ascending=ascending)\n",
    "    fs = files_scores.drop_duplicates('test', keep='first')\n",
    "    fs.reset_index(drop=True, inplace=True)\n",
    "    gt = files[files.code != 'lama'].sort_values(['test_no', 'run'], ascending=ascending)\n",
    "    gt.reset_index(drop=True, inplace=True)\n",
    "    scores = fs['code'].values\n",
    "    \n",
    "    return scores\n",
    "\n",
    "\n",
    "def evaluate_model(inpath):\n",
    "    \n",
    "    files = [f for f in glob.iglob(inpath + '**/*.png', recursive=True)]\n",
    "    files=pd.DataFrame(files, columns=['filepath'])\n",
    "    files['filename'] = files.filepath.apply(lambda x: x.split('/')[-1])\n",
    "    files['filename'] = files.filename.apply(lambda x: x.replace('s_', ''))\n",
    "    files['test'] = files['filename'].apply(lambda x: x.split('_')[0])\n",
    "    files['test'] = files['test'].apply(lambda x: x[3:])\n",
    "    files['test'] = files.test.astype(int)\n",
    "    files['code'] = files['filename'].apply(lambda x: x.split('_')[1])\n",
    "    files['code'] = files['code'].apply(lambda x: x.split('.')[0])\n",
    "    files = files.sort_values('test')\n",
    "    files.reset_index(inplace=True, drop=True)\n",
    "    files = register_ims(files)\n",
    "    files = crop_registered_orig(files)\n",
    "    files['crop_bin_inv'] = (files['crop_bin'] -1) *-1\n",
    "    files = compute_similarity(files, col='crop_bin', comparison='hausdorff')\n",
    "    files = compute_similarity(files, col='crop_bin', comparison='earthmovers')\n",
    "    files = compute_similarity(files, col='crop_bin', comparison='mse')\n",
    "    files = compute_similarity(files, col='crop_bin', comparison='avg_surface')\n",
    "    files = compute_similarity(files, col='crop_bin', comparison='ergas')\n",
    "\n",
    "    return files\n",
    "\n",
    "\n",
    "def compute_similarity(files, col='t_im', comparison='mse'):\n",
    "    list_test = []\n",
    "    list_metric = []\n",
    "    for f in files['test'].unique():\n",
    "        lama_im = files[(files.test == f) & (files.code == 'lama')]\n",
    "        a = lama_im[col].values[0]\n",
    "        for j in files['code'].unique():\n",
    "            index_im = files[(files.test == f) & (files.code == j)]\n",
    "            list_test.append(index_im.filename.values[0])\n",
    "            b = index_im[col].values[0]\n",
    "            if comparison == 'mse':\n",
    "                metric = ((a - b)**2).mean(axis=None)\n",
    "            if comparison == 'hausdorff':\n",
    "                metric = compute_hausdorff_distance(a, b, label_idx=0)\n",
    "            if comparison == 'earthmovers':\n",
    "                metric = scipy.stats.wasserstein_distance(a.flatten(),b.flatten())\n",
    "            if comparison == 'ergas':\n",
    "                metric = ergas(a, b)\n",
    "            if comparison == 'nmi':\n",
    "                metric = nmi(a, b)\n",
    "            list_metric.append(metric)\n",
    "\n",
    "    results = dict(zip(list_test, list_metric))\n",
    "    res_df = pd.DataFrame([results]).T\n",
    "    res_df.reset_index(inplace=True)\n",
    "    res_df.columns = ['filename', comparison]\n",
    "    files = files.merge(res_df, on='filename')\n",
    "    \n",
    "    return files\n",
    "\n",
    "\n",
    "def get_total(scores):\n",
    "    incorrect_list = []\n",
    "    incorrect_idx = []\n",
    "    for index, (first, second) in enumerate(zip(correct, scores)):\n",
    "        if first != second:\n",
    "            incorrect_idx.append(index)\n",
    "            incorrect_list.append(second)\n",
    "    total = 12 - len(incorrect_list)\n",
    "    return total, incorrect_idx, incorrect_list\n",
    "\n",
    "\n",
    "def crop_registered_fullsize(files):\n",
    "    files['crop'] = 0\n",
    "    files.loc[files.test.str[0:2] == '1_', 'crop'] = files[files.test.str[0:2] == '1_'].t_im.apply(lambda x: x[150:220, 290:380])\n",
    "    files.loc[files.test.str[0] == '2', 'crop'] = files[files.test.str[0] == '2'].t_im.apply(lambda x: x[160:225, 300:380])\n",
    "    files.loc[files.test.str[0] == '3', 'crop'] = files[files.test.str[0] == '3'].t_im.apply(lambda x: x[160:225, 290:370])\n",
    "    files.loc[files.test.str[0] == '4', 'crop'] = files[files.test.str[0] == '4'].t_im.apply(lambda x: x[160:230, 300:380])\n",
    "    files.loc[files.test.str[0] == '5', 'crop'] = files[files.test.str[0] == '5'].t_im.apply(lambda x: x[160:230, 310:390])\n",
    "    files.loc[files.test.str[0] == '6', 'crop'] = files[files.test.str[0] == '6'].t_im.apply(lambda x: x[160:220, 320:380])\n",
    "    files.loc[files.test.str[0] == '7', 'crop'] = files[files.test.str[0] == '7'].t_im.apply(lambda x: x[165:225, 300:355])\n",
    "    files.loc[files.test.str[0] == '8', 'crop'] = files[files.test.str[0] == '8'].t_im.apply(lambda x: x[160:215, 300:375])\n",
    "    files.loc[files.test.str[0] == '9', 'crop'] = files[files.test.str[0] == '9'].t_im.apply(lambda x: x[155:225, 310:385])\n",
    "    files.loc[files.test.str[0:2] == '10', 'crop'] = files[files.test.str[0:2] == '10'].t_im.apply(lambda x: x[155:225, 305:380])\n",
    "    files.loc[files.test.str[0:2] == '11', 'crop'] = files[files.test.str[0:2] == '11'].t_im.apply(lambda x: x[160:225, 305:375])\n",
    "    files.loc[files.test.str[0:2] == '12', 'crop'] = files[files.test.str[0:2] == '12'].t_im.apply(lambda x: x[155:225, 305:375])\n",
    "    files['crop_bw'] = files.crop.apply(lambda x: try_bw_conv(x))\n",
    "    files['crop_bin'] = files['crop_bw']/255\n",
    "\n",
    "    return files\n",
    "\n",
    "\n",
    "def get_final_scores(files, metric):\n",
    "    files_scores = files[files.code != 'lama'].sort_values(['test', metric])\n",
    "    fs = files_scores.drop_duplicates('test', keep='first')\n",
    "    fs.reset_index(drop=True, inplace=True)\n",
    "    gt = files[files.code != 'lama'].sort_values('test')\n",
    "    gt.reset_index(drop=True, inplace=True)\n",
    "    scores = fs['code'].values\n",
    "    \n",
    "    return scores\n",
    "\n",
    "def get_total(scores):\n",
    "    incorrect_list = []\n",
    "    incorrect_idx = []\n",
    "    for index, (first, second) in enumerate(zip(correct, scores)):\n",
    "        if first != second:\n",
    "            incorrect_idx.append(index)\n",
    "            incorrect_list.append(second)\n",
    "    total = 12 - len(incorrect_list)\n",
    "    \n",
    "    return total, incorrect_idx, incorrect_list\n",
    "\n",
    "\n",
    "def scores_panel(scores):\n",
    "    meta_list = []\n",
    "    scores_list = []\n",
    "    for i in range(0,50):\n",
    "        run_list = []\n",
    "        for j in range(0,12):\n",
    "            x = scores[i + (j*50)]\n",
    "            run_list.append(x)\n",
    "        meta_list.append(run_list)\n",
    "        score, _,_ = get_total(run_list)\n",
    "        scores_list.append(score)\n",
    "        \n",
    "    return meta_list, scores_list\n",
    "\n",
    "\n",
    "def get_scores_and_duplicates(files):\n",
    "    files_scores = files[files.code != 'lama'].sort_values(['test', 'hausdorff'])\n",
    "    fs = files_scores.drop_duplicates('test', keep='first')\n",
    "    fs.reset_index(drop=True, inplace=True)\n",
    "    gt = files[files.code != 'lama'].sort_values('test')\n",
    "    gt.reset_index(drop=True, inplace=True)\n",
    "    scores = fs['code'].values\n",
    "    min_hausdorff_map = fs[['test', 'hausdorff']]\n",
    "    min_hausdorff_map.columns = ['test', 'hausdorff_min']\n",
    "    min_hausdorff_map.reset_index(drop=True, inplace=True)\n",
    "    files_scores = files_scores.merge(min_hausdorff_map, on='test')\n",
    "    files_scores['top_match_hd'] = 0\n",
    "    files_scores.loc[files_scores.hausdorff == files_scores.hausdorff_min, 'top_match_hd'] = 1\n",
    "    double_map = files_scores[['test', 'top_match_hd']].groupby('test').sum().reset_index()\n",
    "    double_map.columns = ['test', 'n_top_hd']\n",
    "    files_scores = files_scores.merge(double_map, on='test')\n",
    "    \n",
    "    return files_scores\n",
    "\n",
    "\n",
    "def lama_cogniprint(df_h, df_l):\n",
    "\n",
    "    df_h = df_h.astype(float, errors='ignore')\n",
    "    c_list = []\n",
    "    for c in df_h.columns[10:22]:\n",
    "        c_list.append(df_h[c].sum())\n",
    "    #select responses\n",
    "    diff_df = pd.DataFrame(df_h.columns[10:22], columns=['test'])\n",
    "    diff_df['n_correct'] = c_list\n",
    "    diff_df.sort_values('n_correct', ascending=False, inplace=True)\n",
    "    diff_df.reset_index(inplace=True)\n",
    "    # empty matrix\n",
    "    df_hm = pd.DataFrame(np.zeros((12, 8)))\n",
    "    df_hm.index = diff_df['index'] + 1\n",
    "    df_hm.columns = np.arange(1, 9)\n",
    "    df_m = df_hm.copy()\n",
    "    # fill matrix\n",
    "    for i in df_hm.index:\n",
    "        col_group = df_h.columns[df_h.columns.str.contains(('r'+str(i)+'_'))]\n",
    "        for col in col_group:\n",
    "            res = int(col.split('_')[1])\n",
    "            df_hm.at[i,res] = df_h[col].sum()\n",
    "    df_hm2 = df_hm.T\n",
    "    df_hm3 = pd.DataFrame()\n",
    "    # fill path matrix\n",
    "    for i in df_m.index:\n",
    "        col_group = df_h.columns[df_h.columns.str.contains(('r'+str(i)+'_'))]\n",
    "        for col in col_group:\n",
    "            res = int(col.split('_')[1])\n",
    "            df_m.at[i,res] = df_l[col]\n",
    "    df_m2 = df_m.T\n",
    "    df_m3 = pd.DataFrame()\n",
    "    #reindex path test to healthy\n",
    "    for i in df_hm2.columns:\n",
    "        i = str(i)\n",
    "        healthy_col = df_hm2.sort_values(int(i), ascending=False)\n",
    "        path_col = pd.DataFrame(df_m2[int(i)].reindex(index=healthy_col.index))\n",
    "        df_hm3[i] = healthy_col.reset_index(drop=True)[int(i)]\n",
    "        df_m3[i] = path_col.reset_index(drop=True)[int(i)]\n",
    "    df_m3 = df_m3.T\n",
    "    #refill matrix with pathological results\n",
    "\n",
    "    return df_m3\n",
    "\n",
    "\n",
    "def add_min_metric(x):\n",
    "    y = min_h[min_h.test == x].hausdorff\n",
    "    return y\n",
    "\n",
    "\n",
    "def create_apm_summary(df):\n",
    "    c_list = []\n",
    "    t_list = []\n",
    "    col_list = ['c1', 'c2', 'c3', 'c4', 'c5', 'c6', 'c7', 'c8', 'c9', 'c10', 'c11', 'c12']\n",
    "\n",
    "    for col in col_list:\n",
    "        correct = df[col].sum()\n",
    "        total = df[col].notna().sum()\n",
    "        c_list.append(correct)\n",
    "        t_list.append(total)\n",
    "\n",
    "    summary_df = pd.DataFrame(col_list)\n",
    "    summary_df['correct'] = c_list\n",
    "    summary_df['total'] = t_list\n",
    "    summary_df['ratio'] = summary_df['correct'] / summary_df['total']\n",
    "    \n",
    "    return summary_df"
   ]
  },
  {
   "cell_type": "code",
   "execution_count": 166,
   "metadata": {},
   "outputs": [],
   "source": [
    "df = pd.read_excel(\"/media/amy/disk-11/npsy_apm/Raven's healthy controls and frontal and nonfrontal 23 3 23.xlsx\")\n",
    "df = df[df.columns[:32]]\n",
    "df.columns = ['id', 'group', 'sub_group', 'gender', 'age', 'nart', 'educ_years', 'raven',\n",
    "              'r1', 'r2', 'r3', 'r4', 'r5', 'r6', 'r7', 'r8', 'r9', 'r10', 'r11', 'r12',\n",
    "              'c1', 'c2', 'c3', 'c4', 'c5', 'c6', 'c7', 'c8', 'c9', 'c10', 'c11', 'c12']\n",
    "cols = ['r1', 'r2', 'r3', 'r4', 'r5', 'r6', 'r7', 'r8', 'r9', 'r10', 'r11', 'r12']\n",
    "df[cols] = df[cols].replace({'0':np.nan, 0:np.nan, '':np.nan})\n",
    "df['patient'] = 0\n",
    "df.loc[df.id.apply(lambda x:len(str(x)) > 3), 'patient'] = 1\n",
    "df['p1'] = 0\n",
    "df.loc[df.group == 2, 'p1'] = 1\n",
    "df['p2'] = 0\n",
    "df.loc[df.group == 3, 'p2'] = 1\n",
    "df.loc[df.id.apply(lambda x:len(str(x)) > 3), 'patient'] = 1\n",
    "#impute known correct if r = nan but c = 1; impute known correct if incorrectly written\n",
    "correct_list = [8,4,5,1,2,5,6,3,7,8,7,6]\n",
    "for i in range(0,12):\n",
    "    c_col = 'c' + str(i+1)\n",
    "    r_col = 'r' + str(i+1)\n",
    "    df.loc[((df[r_col].isna()) & (df[c_col] == 1.0)), r_col] = correct_list[i]\n",
    "    try:\n",
    "        false_input = df[df[c_col] == 1][r_col].value_counts().index[1]\n",
    "        correct_input = df[df[c_col] == 1][r_col].value_counts().index[0]\n",
    "        df.loc[((df[r_col] == false_input) & (df[c_col] == 1.0)), r_col] = correct_input\n",
    "    except:\n",
    "        pass\n",
    "    \n",
    "df[cols] = df[cols].dropna().astype(int).astype(str)\n",
    "#remove response nan rows for now\n",
    "dff = df.copy()\n",
    "df=df[df.c1.notna()].reset_index(drop=True)\n",
    "\n",
    "#correlations\n",
    "df_res = pd.get_dummies(df[['r1','r2','r3','r4','r5','r6','r7','r8','r9','r10','r11','r12']])\n",
    "df_res['total_responses_coded'] = df_res.sum(axis=1)\n",
    "df_res = df_res[df_res.total_responses_coded > 0]\n",
    "df_all = pd.concat([df[['group', 'sub_group', 'patient', 'p1', 'p2', 'gender', 'age', 'nart', 'educ_years', 'raven',\n",
    "                       'c1', 'c2', 'c3', 'c4', 'c5', 'c6', 'c7', 'c8', 'c9', 'c10', 'c11', 'c12']], df_res],axis=1)\n",
    "df_all = df_all[df_all.total_responses_coded > 0]\n",
    "df_res.reset_index(inplace=True, drop=True)\n",
    "df_all.reset_index(inplace=True, drop=True)\n",
    "df_res.drop('total_responses_coded', axis=1, inplace=True)\n",
    "df_all.drop('total_responses_coded', axis=1, inplace=True)\n",
    "\n",
    "#rank correlation with ravens total\n",
    "correct_r = ['r1_8', 'r2_4', 'r3_5', 'r4_1', 'r5_2', 'r6_5', 'r7_6', 'r8_3', 'r9_7', 'r10_8', 'r11_7', 'r12_6']\n",
    "c_r = []\n",
    "for x in correct_r:\n",
    "    x = x +'_correct'\n",
    "    c_r.append(x)\n",
    "name_map = dict(zip(correct_r, c_r))\n",
    "df_all = df_all.rename(columns=name_map)\n",
    "df_res.columns = df_all.columns[22:]\n",
    "corr_all = df_all.corr()\n",
    "raven_df = pd.DataFrame(corr_all.raven)\n",
    "raven_df['abs'] =  abs(raven_df['raven'])\n",
    "raven_df = raven_df.sort_values('abs', ascending=False)\n",
    "raven_df = raven_df[~raven_df.index.str.contains(\"correct\")]"
   ]
  },
  {
   "cell_type": "code",
   "execution_count": 70,
   "metadata": {},
   "outputs": [
    {
     "name": "stderr",
     "output_type": "stream",
     "text": [
      "/home/amy/anaconda3/envs/DNA/lib/python3.7/site-packages/ipykernel_launcher.py:2: SettingWithCopyWarning: \n",
      "A value is trying to be set on a copy of a slice from a DataFrame.\n",
      "Try using .loc[row_indexer,col_indexer] = value instead\n",
      "\n",
      "See the caveats in the documentation: https://pandas.pydata.org/pandas-docs/stable/user_guide/indexing.html#returning-a-view-versus-a-copy\n",
      "  \n",
      "/home/amy/anaconda3/envs/DNA/lib/python3.7/site-packages/pandas/core/indexing.py:1720: SettingWithCopyWarning: \n",
      "A value is trying to be set on a copy of a slice from a DataFrame.\n",
      "Try using .loc[row_indexer,col_indexer] = value instead\n",
      "\n",
      "See the caveats in the documentation: https://pandas.pydata.org/pandas-docs/stable/user_guide/indexing.html#returning-a-view-versus-a-copy\n",
      "  self._setitem_single_column(loc, value, pi)\n"
     ]
    }
   ],
   "source": [
    "plot_df = df[(df.sub_group==2) | (df.sub_group==5)]\n",
    "plot_df['kind'] = 'healthy'\n",
    "plot_df.loc[plot_df.sub_group == 2, 'kind'] = 'right frontal'"
   ]
  },
  {
   "cell_type": "code",
   "execution_count": 71,
   "metadata": {},
   "outputs": [],
   "source": [
    "plot_df = plot_df[['id', 'nart', 'raven', 'kind']]\n",
    "plot_df.columns = ['ID', 'NART', 'RAPM', 'kind']"
   ]
  },
  {
   "cell_type": "code",
   "execution_count": 123,
   "metadata": {},
   "outputs": [
    {
     "name": "stderr",
     "output_type": "stream",
     "text": [
      "/home/amy/anaconda3/envs/DNA/lib/python3.7/site-packages/seaborn/distributions.py:1185: UserWarning: linewidths is ignored by contourf\n",
      "  **contour_kws,\n"
     ]
    },
    {
     "data": {
      "image/png": "[encoded data removed]",
      "text/plain": [
       "<Figure size 432x432 with 3 Axes>"
      ]
     },
     "metadata": {},
     "output_type": "display_data"
    }
   ],
   "source": [
    "sns.set_theme()\n",
    "sns.set_style(\"ticks\")\n",
    "plt.rcParams['font.sans-serif'] = \"DinPro\"\n",
    "plt.rcParams['font.family'] = \"DinPro\"\n",
    "g = sns.jointplot(data=plot_df, y=\"NART\", x=\"RAPM\", hue='kind', kind='kde',\\\n",
    "                  alpha=0.4, space=0, linewidths=0.6,\\\n",
    "                  levels=8, fill=True, common_norm=False,\\\n",
    "                  palette={'healthy': 'dodgerblue', 'right frontal': 'red'},\\\n",
    "                  marginal_kws=dict(common_norm=False, fill=False, legend=False))\n",
    "g.ax_marg_y.set_ylim(68, 135)\n",
    "g.ax_marg_x.set_xlim(0, 13)\n",
    "#sns.move_legend(g, \"lower center\")#,plt.legend(loc='upper left')\n",
    "\n",
    "g.savefig('patient_joint_nart_apm_kde_models_2.svg')"
   ]
  },
  {
   "cell_type": "code",
   "execution_count": 125,
   "metadata": {},
   "outputs": [
    {
     "name": "stderr",
     "output_type": "stream",
     "text": [
      "/home/amy/anaconda3/envs/DNA/lib/python3.7/site-packages/seaborn/distributions.py:2557: FutureWarning: `distplot` is a deprecated function and will be removed in a future version. Please adapt your code to use either `displot` (a figure-level function with similar flexibility) or `histplot` (an axes-level function for histograms).\n",
      "  warnings.warn(msg, FutureWarning)\n",
      "/home/amy/anaconda3/envs/DNA/lib/python3.7/site-packages/seaborn/distributions.py:2557: FutureWarning: `distplot` is a deprecated function and will be removed in a future version. Please adapt your code to use either `displot` (a figure-level function with similar flexibility) or `histplot` (an axes-level function for histograms).\n",
      "  warnings.warn(msg, FutureWarning)\n"
     ]
    },
    {
     "data": {
      "image/png": "[encoded data removed]",
      "text/plain": [
       "<Figure size 360x360 with 1 Axes>"
      ]
     },
     "metadata": {},
     "output_type": "display_data"
    }
   ],
   "source": [
    "sns.set_theme()\n",
    "sns.set_style(\"ticks\")\n",
    "plt.rcParams['font.sans-serif'] = \"DinPro\"\n",
    "plt.rcParams['font.family'] = \"DinPro\"\n",
    "plt.figure(figsize=(5,5))\n",
    "sns.distplot(df[df.group==1].raven, color='dodgerblue', bins=np.arange(0,14),kde_kws={'clip': (0.0, 12.0)}, label='Right frontal lesion').set(xlabel='APM score', ylabel='Density')\n",
    "sns.distplot(df[df.sub_group==2].raven, color='r', bins=np.arange(0,14),kde_kws={'clip': (0.0, 12.0)}, label='Healthy control')#.set(xlabel='APM score', ylabel='Density')\n",
    "plt.axvline(8.77, 0, color='dodgerblue', linestyle=':')\n",
    "plt.axvline(8, 0, color='orchid', linestyle=':')\n",
    "# plt.axvline(8.02, 0, color='orange', linestyle='--', label='Posterior lesion, mean')\n",
    "# plt.axvline(7.09, 0, color='limegreen', linestyle='--', label='Frontal lesion, mean')\n",
    "plt.axvline(6, 0, color='orange', linestyle=':')\n",
    "plt.axvline(5, 0, color='orangered', linestyle=':')\n",
    "plt.axvline(1, 0, color='limegreen', linestyle=':')\n",
    "plt.legend()\n",
    "plt.tight_layout()\n",
    "plt.savefig('healthy_apm_scores_kde_models_0223_3.svg')"
   ]
  },
  {
   "cell_type": "code",
   "execution_count": 115,
   "metadata": {},
   "outputs": [
    {
     "data": {
      "text/plain": [
       "array([[ 97.4260629 ],\n",
       "       [ 98.65228438],\n",
       "       [ 99.87850586],\n",
       "       [101.10472734],\n",
       "       [102.33094883],\n",
       "       [103.55717031],\n",
       "       [104.78339179],\n",
       "       [106.00961327],\n",
       "       [107.23583475]])"
      ]
     },
     "execution_count": 115,
     "metadata": {},
     "output_type": "execute_result"
    }
   ],
   "source": [
    "df_hc = df[df.group==1].reset_index(drop=True)\n",
    "reg = LinearRegression()\n",
    "reg.fit(np.array(df_hc['raven']).reshape(-1,1), np.array(df_hc['nart']).reshape(-1,1))\n",
    "corr, p =  pearsonr(df[df.group==1].nart, df[df.group==1].raven) # p = 1.4006427797917533e-07\n",
    "reg.predict(np.array([1,2,3,4,5,6,7,8,9]).reshape(-1,1))"
   ]
  },
  {
   "cell_type": "code",
   "execution_count": 154,
   "metadata": {},
   "outputs": [],
   "source": [
    "df_all['name'] = 'healthy_control'\n",
    "df_all.loc[df.p1 == 1, 'name'] = 'frontal'\n",
    "df_all.loc[df.p2 == 1, 'name'] = 'posterior'\n",
    "df_all['name'] = 'o'\n",
    "df_all.loc[df.sub_group == 2, 'name'] = 'right_frontal'\n",
    "df_all_labels = df_all[['gender', 'age', 'nart', 'educ_years', 'raven']]\n",
    "#drop incorrectly assigned patients\n",
    "df_h = df_all[df_all.group == 1].reset_index(drop=True)\n",
    "#select responses\n",
    "c_list = []\n",
    "for c in df_h.columns[10:22]:\n",
    "    c_list.append(df_h[c].sum())\n",
    "diff_df = pd.DataFrame(df_h.columns[10:22], columns=['test'])\n",
    "diff_df['n_correct'] = c_list\n",
    "diff_df.sort_values('n_correct', ascending=False, inplace=True)\n",
    "diff_df.reset_index(inplace=True)\n",
    "df_h = df_all[df_all.group == 1].reset_index(drop=True)\n",
    "df_f = df_all[df_all.p1 == 1].reset_index(drop=True)\n",
    "df_p = df_all[df_all.p2 == 1].reset_index(drop=True)\n",
    "df_patient = df_all[~df_all.group == 1].reset_index(drop=True)\n",
    "cogni_h = cogniprint(df_h)\n",
    "cogni_f = cogniprint_path(df_h, df_f)\n",
    "cogni_p = cogniprint_path(df_h, df_p)\n",
    "df_f1 = df_all[df_all.sub_group == 1].reset_index(drop=True)\n",
    "df_f2 = df_all[df_all.sub_group == 2].reset_index(drop=True)\n",
    "cogni_f1 = cogniprint_path(df_h, df_f1)\n",
    "cogni_f2 = cogniprint_path(df_h, df_f2)\n",
    "cogni_f.columns = cogni_f.columns + 1\n",
    "cogni_h.columns = cogni_h.columns + 1\n",
    "cogni_f1.columns = cogni_f1.columns + 1\n",
    "cogni_p.columns = cogni_p.columns + 1\n",
    "cogni_f2.columns = cogni_f2.columns + 1"
   ]
  },
  {
   "cell_type": "code",
   "execution_count": 75,
   "metadata": {},
   "outputs": [
    {
     "data": {
      "text/html": [
       "<div>\n",
       "<style scoped>\n",
       "    .dataframe tbody tr th:only-of-type {\n",
       "        vertical-align: middle;\n",
       "    }\n",
       "\n",
       "    .dataframe tbody tr th {\n",
       "        vertical-align: top;\n",
       "    }\n",
       "\n",
       "    .dataframe thead th {\n",
       "        text-align: right;\n",
       "    }\n",
       "</style>\n",
       "<table border=\"1\" class=\"dataframe\">\n",
       "  <thead>\n",
       "    <tr style=\"text-align: right;\">\n",
       "      <th></th>\n",
       "      <th>group</th>\n",
       "      <th>gender</th>\n",
       "      <th>age</th>\n",
       "      <th>nart</th>\n",
       "      <th>educ_years</th>\n",
       "      <th>raven</th>\n",
       "      <th>c1</th>\n",
       "      <th>c2</th>\n",
       "      <th>c3</th>\n",
       "      <th>c4</th>\n",
       "      <th>c5</th>\n",
       "      <th>c6</th>\n",
       "      <th>c7</th>\n",
       "      <th>c8</th>\n",
       "      <th>c9</th>\n",
       "      <th>c10</th>\n",
       "      <th>c11</th>\n",
       "      <th>c12</th>\n",
       "      <th>patient</th>\n",
       "      <th>p1</th>\n",
       "      <th>p2</th>\n",
       "    </tr>\n",
       "    <tr>\n",
       "      <th>sub_group</th>\n",
       "      <th></th>\n",
       "      <th></th>\n",
       "      <th></th>\n",
       "      <th></th>\n",
       "      <th></th>\n",
       "      <th></th>\n",
       "      <th></th>\n",
       "      <th></th>\n",
       "      <th></th>\n",
       "      <th></th>\n",
       "      <th></th>\n",
       "      <th></th>\n",
       "      <th></th>\n",
       "      <th></th>\n",
       "      <th></th>\n",
       "      <th></th>\n",
       "      <th></th>\n",
       "      <th></th>\n",
       "      <th></th>\n",
       "      <th></th>\n",
       "      <th></th>\n",
       "    </tr>\n",
       "  </thead>\n",
       "  <tbody>\n",
       "    <tr>\n",
       "      <th>1</th>\n",
       "      <td>2.0</td>\n",
       "      <td>1.326087</td>\n",
       "      <td>42.130435</td>\n",
       "      <td>102.652174</td>\n",
       "      <td>14.488889</td>\n",
       "      <td>7.913043</td>\n",
       "      <td>0.978261</td>\n",
       "      <td>0.934783</td>\n",
       "      <td>0.869565</td>\n",
       "      <td>0.956522</td>\n",
       "      <td>0.717391</td>\n",
       "      <td>0.717391</td>\n",
       "      <td>0.847826</td>\n",
       "      <td>0.521739</td>\n",
       "      <td>0.391304</td>\n",
       "      <td>0.543478</td>\n",
       "      <td>0.108696</td>\n",
       "      <td>0.326087</td>\n",
       "      <td>1.000000</td>\n",
       "      <td>1.0</td>\n",
       "      <td>0.0</td>\n",
       "    </tr>\n",
       "    <tr>\n",
       "      <th>2</th>\n",
       "      <td>2.0</td>\n",
       "      <td>1.494382</td>\n",
       "      <td>49.501124</td>\n",
       "      <td>108.042857</td>\n",
       "      <td>14.678571</td>\n",
       "      <td>6.415730</td>\n",
       "      <td>0.932584</td>\n",
       "      <td>0.853933</td>\n",
       "      <td>0.640449</td>\n",
       "      <td>0.842697</td>\n",
       "      <td>0.471910</td>\n",
       "      <td>0.516854</td>\n",
       "      <td>0.651685</td>\n",
       "      <td>0.359551</td>\n",
       "      <td>0.314607</td>\n",
       "      <td>0.415730</td>\n",
       "      <td>0.191011</td>\n",
       "      <td>0.224719</td>\n",
       "      <td>0.988764</td>\n",
       "      <td>1.0</td>\n",
       "      <td>0.0</td>\n",
       "    </tr>\n",
       "    <tr>\n",
       "      <th>3</th>\n",
       "      <td>3.0</td>\n",
       "      <td>1.444444</td>\n",
       "      <td>53.259259</td>\n",
       "      <td>105.925926</td>\n",
       "      <td>15.040000</td>\n",
       "      <td>7.962963</td>\n",
       "      <td>0.962963</td>\n",
       "      <td>0.851852</td>\n",
       "      <td>0.666667</td>\n",
       "      <td>0.962963</td>\n",
       "      <td>0.888889</td>\n",
       "      <td>0.740741</td>\n",
       "      <td>0.925926</td>\n",
       "      <td>0.444444</td>\n",
       "      <td>0.407407</td>\n",
       "      <td>0.481481</td>\n",
       "      <td>0.259259</td>\n",
       "      <td>0.370370</td>\n",
       "      <td>0.962963</td>\n",
       "      <td>0.0</td>\n",
       "      <td>1.0</td>\n",
       "    </tr>\n",
       "    <tr>\n",
       "      <th>4</th>\n",
       "      <td>3.0</td>\n",
       "      <td>1.500000</td>\n",
       "      <td>49.500000</td>\n",
       "      <td>109.166667</td>\n",
       "      <td>14.791667</td>\n",
       "      <td>8.055556</td>\n",
       "      <td>1.000000</td>\n",
       "      <td>0.972222</td>\n",
       "      <td>0.722222</td>\n",
       "      <td>0.916667</td>\n",
       "      <td>0.472222</td>\n",
       "      <td>0.722222</td>\n",
       "      <td>0.805556</td>\n",
       "      <td>0.361111</td>\n",
       "      <td>0.611111</td>\n",
       "      <td>0.722222</td>\n",
       "      <td>0.305556</td>\n",
       "      <td>0.444444</td>\n",
       "      <td>1.000000</td>\n",
       "      <td>0.0</td>\n",
       "      <td>1.0</td>\n",
       "    </tr>\n",
       "    <tr>\n",
       "      <th>5</th>\n",
       "      <td>1.0</td>\n",
       "      <td>1.638095</td>\n",
       "      <td>51.888889</td>\n",
       "      <td>106.955556</td>\n",
       "      <td>14.261290</td>\n",
       "      <td>8.771429</td>\n",
       "      <td>0.984127</td>\n",
       "      <td>0.876190</td>\n",
       "      <td>0.803175</td>\n",
       "      <td>0.930159</td>\n",
       "      <td>0.800000</td>\n",
       "      <td>0.841270</td>\n",
       "      <td>0.882540</td>\n",
       "      <td>0.568254</td>\n",
       "      <td>0.425397</td>\n",
       "      <td>0.720635</td>\n",
       "      <td>0.444444</td>\n",
       "      <td>0.495238</td>\n",
       "      <td>0.000000</td>\n",
       "      <td>0.0</td>\n",
       "      <td>0.0</td>\n",
       "    </tr>\n",
       "  </tbody>\n",
       "</table>\n",
       "</div>"
      ],
      "text/plain": [
       "           group    gender        age        nart  educ_years     raven  \\\n",
       "sub_group                                                                 \n",
       "1            2.0  1.326087  42.130435  102.652174   14.488889  7.913043   \n",
       "2            2.0  1.494382  49.501124  108.042857   14.678571  6.415730   \n",
       "3            3.0  1.444444  53.259259  105.925926   15.040000  7.962963   \n",
       "4            3.0  1.500000  49.500000  109.166667   14.791667  8.055556   \n",
       "5            1.0  1.638095  51.888889  106.955556   14.261290  8.771429   \n",
       "\n",
       "                 c1        c2        c3        c4        c5        c6  \\\n",
       "sub_group                                                               \n",
       "1          0.978261  0.934783  0.869565  0.956522  0.717391  0.717391   \n",
       "2          0.932584  0.853933  0.640449  0.842697  0.471910  0.516854   \n",
       "3          0.962963  0.851852  0.666667  0.962963  0.888889  0.740741   \n",
       "4          1.000000  0.972222  0.722222  0.916667  0.472222  0.722222   \n",
       "5          0.984127  0.876190  0.803175  0.930159  0.800000  0.841270   \n",
       "\n",
       "                 c7        c8        c9       c10       c11       c12  \\\n",
       "sub_group                                                               \n",
       "1          0.847826  0.521739  0.391304  0.543478  0.108696  0.326087   \n",
       "2          0.651685  0.359551  0.314607  0.415730  0.191011  0.224719   \n",
       "3          0.925926  0.444444  0.407407  0.481481  0.259259  0.370370   \n",
       "4          0.805556  0.361111  0.611111  0.722222  0.305556  0.444444   \n",
       "5          0.882540  0.568254  0.425397  0.720635  0.444444  0.495238   \n",
       "\n",
       "            patient   p1   p2  \n",
       "sub_group                      \n",
       "1          1.000000  1.0  0.0  \n",
       "2          0.988764  1.0  0.0  \n",
       "3          0.962963  0.0  1.0  \n",
       "4          1.000000  0.0  1.0  \n",
       "5          0.000000  0.0  0.0  "
      ]
     },
     "execution_count": 75,
     "metadata": {},
     "output_type": "execute_result"
    }
   ],
   "source": [
    "df.groupby('sub_group').mean()"
   ]
  },
  {
   "cell_type": "code",
   "execution_count": 76,
   "metadata": {},
   "outputs": [
    {
     "data": {
      "image/png": "[encoded data removed]",
      "text/plain": [
       "<Figure size 360x288 with 2 Axes>"
      ]
     },
     "metadata": {},
     "output_type": "display_data"
    }
   ],
   "source": [
    "plt.figure(figsize=(5,4))\n",
    "sns.heatmap(cogni_f, cmap='turbo').set(xlabel='Rank of selected option frequency, frontal lesions', ylabel='APM question')\n",
    "plt.savefig('cogni_f_2.pdf', bbox_inches='tight')"
   ]
  },
  {
   "cell_type": "code",
   "execution_count": 156,
   "metadata": {},
   "outputs": [
    {
     "data": {
      "image/png": "[encoded data removed]",
      "text/plain": [
       "<Figure size 360x324 with 2 Axes>"
      ]
     },
     "metadata": {},
     "output_type": "display_data"
    }
   ],
   "source": [
    "plt.figure(figsize=(5,4.5))\n",
    "b = sns.heatmap(cogni_f2, cmap='turbo').set(xlabel='Rank of selected option frequency', ylabel='APM question')\n",
    "plt.savefig('cogni_rf_0322.pdf', bbox_inches='tight')"
   ]
  },
  {
   "cell_type": "code",
   "execution_count": 78,
   "metadata": {},
   "outputs": [
    {
     "data": {
      "image/png": "[encoded data removed]",
      "text/plain": [
       "<Figure size 360x324 with 2 Axes>"
      ]
     },
     "metadata": {},
     "output_type": "display_data"
    }
   ],
   "source": [
    "plt.figure(figsize=(5,4.5))\n",
    "b = sns.heatmap(cogni_f1, cmap='turbo').set(xlabel='Rank of selected option frequency', ylabel='APM question')\n",
    "plt.savefig('cogni_lf.pdf', bbox_inches='tight')"
   ]
  },
  {
   "cell_type": "code",
   "execution_count": 155,
   "metadata": {},
   "outputs": [
    {
     "data": {
      "image/png": "[encoded data removed]",
      "text/plain": [
       "<Figure size 360x324 with 2 Axes>"
      ]
     },
     "metadata": {},
     "output_type": "display_data"
    }
   ],
   "source": [
    "plt.figure(figsize=(5,4.5))\n",
    "b = sns.heatmap(cogni_h, cmap='turbo').set(xlabel='Rank of selected option frequency', ylabel='APM question')\n",
    "plt.savefig('cogni_h_0322.pdf', bbox_inches='tight')"
   ]
  },
  {
   "cell_type": "code",
   "execution_count": 126,
   "metadata": {},
   "outputs": [],
   "source": [
    "df_rf = df[df.sub_group == 2].reset_index(drop=True)\n",
    "dff_rf = create_apm_summary(df_rf)\n",
    "dff_rf.to_csv('right_frontal_apm_scores.csv', index=False)"
   ]
  },
  {
   "cell_type": "code",
   "execution_count": null,
   "metadata": {},
   "outputs": [],
   "source": [
    "df_stats_f2[df_stats_f2 < 0.00052]"
   ]
  },
  {
   "cell_type": "code",
   "execution_count": null,
   "metadata": {},
   "outputs": [],
   "source": [
    "df_stats_f2 = cogni_stats(df_h, df_f2, cogni_h, cogni_f2)\n",
    "df_stats_f2"
   ]
  },
  {
   "cell_type": "code",
   "execution_count": null,
   "metadata": {},
   "outputs": [],
   "source": [
    "#Benjamini/Yekutieli correction\n",
    "output = fdrcorrection(np.array(df_stats_f2).flatten())\n",
    "stat_f2 = pd.DataFrame(output[0].reshape(12,8))\n",
    "stat_f2.index=df_stats_f2.index\n",
    "stat_f2.columns =df_stats_f2.columns\n",
    "stat_f2"
   ]
  },
  {
   "cell_type": "markdown",
   "metadata": {},
   "source": [
    "### image similarity"
   ]
  },
  {
   "cell_type": "code",
   "execution_count": 8,
   "metadata": {},
   "outputs": [],
   "source": [
    "correct = ['8','4','5','1','2','5','6','3','7','8','7','6']"
   ]
  },
  {
   "cell_type": "code",
   "execution_count": null,
   "metadata": {},
   "outputs": [],
   "source": [
    "files = evaluate_model('/media/amy/disk-11/npsy_apm/apm_images/lama_big_for_comparison/')\n",
    "metrics = ['hausdorff', 'earthmovers', 'mse', 'ergas', 'nmi']\n",
    "for f in metrics:\n",
    "    print(f)\n",
    "    _ = get_scores_and_duplicates(files, f)\n",
    "    scores_list = []\n",
    "names_list = []\n",
    "totals_list = []\n",
    "mode_list = []\n",
    "for f in files.columns[9:]:\n",
    "    if f == 'nmi':\n",
    "        scores = get_final_scores(files, f, ascending=False)\n",
    "        scores = list(reversed(scores))\n",
    "    else:\n",
    "        scores = get_final_scores(files, f)\n",
    "    names_list.append(f)\n",
    "    scores_list.append(scores)\n",
    "    total = get_total(scores)[0]\n",
    "    totals_list.append(total)\n",
    "scores_frame = pd.DataFrame(scores_list)\n",
    "scores_frame.columns = scores_frame.columns + 1\n",
    "scores_frame.index = metrics\n",
    "for f in scores_frame.columns:\n",
    "    mode_list.append(scores_frame[f].mode()[0])\n",
    "print(mode_list)\n",
    "print(\"total: \" + str(get_total(mode_list)[0]))"
   ]
  },
  {
   "cell_type": "code",
   "execution_count": null,
   "metadata": {},
   "outputs": [],
   "source": [
    "[5, 3, 5, 4, 4, 4, 4, 1, 1, 5, 1, 1]"
   ]
  },
  {
   "cell_type": "code",
   "execution_count": null,
   "metadata": {},
   "outputs": [],
   "source": [
    "[1,1,1,1,0,1,0,1,1,1,1,0]\n",
    "[1,1,1,0,1,1,1,0,0,1,0,1]\n",
    "[1,0,1,1,1,1,1,0,0,1,0,0]\n",
    "[1,1,1,1,1,1,1,0,0,1,0,0]\n",
    "[1,0,1,1,1,1,1,0,0,1,0,0]"
   ]
  },
  {
   "cell_type": "code",
   "execution_count": null,
   "metadata": {},
   "outputs": [],
   "source": [
    "files = evaluate_model('/media/amy/disk-11/npsy_apm/apm_images/lama_big_reg_for_comparison/')\n",
    "metrics = ['hausdorff', 'earthmovers', 'mse', 'ergas', 'nmi']\n",
    "for f in metrics:\n",
    "    print(f)\n",
    "    _ = get_scores_and_duplicates(files, f)\n",
    "    scores_list = []\n",
    "names_list = []\n",
    "totals_list = []\n",
    "mode_list = []\n",
    "for f in files.columns[9:]:\n",
    "    if f == 'nmi':\n",
    "        scores = get_final_scores(files, f, ascending=False)\n",
    "        scores = list(reversed(scores))\n",
    "    else:\n",
    "        scores = get_final_scores(files, f)\n",
    "    names_list.append(f)\n",
    "    scores_list.append(scores)\n",
    "    total = get_total(scores)[0]\n",
    "    totals_list.append(total)\n",
    "scores_frame = pd.DataFrame(scores_list)\n",
    "scores_frame.columns = scores_frame.columns + 1\n",
    "scores_frame.index = metrics\n",
    "for f in scores_frame.columns:\n",
    "    mode_list.append(scores_frame[f].mode()[0])\n",
    "print(mode_list)\n",
    "print(\"total: \" + str(get_total(mode_list)[0]))"
   ]
  },
  {
   "cell_type": "code",
   "execution_count": null,
   "metadata": {},
   "outputs": [],
   "source": [
    "files = evaluate_model('/media/amy/disk-11/npsy_apm/apm_images/lama_small_for_comparison/')\n",
    "metrics = ['hausdorff', 'earthmovers', 'mse', 'ergas', 'nmi']\n",
    "for f in metrics:\n",
    "    print(f)\n",
    "    _ = get_scores_and_duplicates(files, f)\n",
    "    scores_list = []\n",
    "names_list = []\n",
    "totals_list = []\n",
    "mode_list = []\n",
    "for f in files.columns[9:]:\n",
    "    if f == 'nmi':\n",
    "        scores = get_final_scores(files, f, ascending=False)\n",
    "        scores = list(reversed(scores))\n",
    "    else:\n",
    "        scores = get_final_scores(files, f)\n",
    "    names_list.append(f)\n",
    "    scores_list.append(scores)\n",
    "    total = get_total(scores)[0]\n",
    "    totals_list.append(total)\n",
    "scores_frame = pd.DataFrame(scores_list)\n",
    "scores_frame.columns = scores_frame.columns + 1\n",
    "scores_frame.index = metrics\n",
    "for f in scores_frame.columns:\n",
    "    mode_list.append(scores_frame[f].mode()[0])\n",
    "print(mode_list)\n",
    "print(\"total: \" + str(get_total(mode_list)[0]))"
   ]
  },
  {
   "cell_type": "markdown",
   "metadata": {},
   "source": [
    "### FFC ablated errors matching"
   ]
  },
  {
   "cell_type": "code",
   "execution_count": 88,
   "metadata": {},
   "outputs": [],
   "source": [
    "df = df[df.r1.notna()]\n",
    "lama_mode   = ['8', '4', '5', '1', '2', '5', '6', '2', '5', '8', '6', '4']\n",
    "lama_r_mode = ['8', '1', '3', '7', '3', '7', '2', '7', '5', '4', '3', '4']\n",
    "lama_s_mode = ['8', '4', '5', '2', '2', '4', '6', '7', '5', '7', '3', '6']\n",
    "lama_mode_binary = [1,1,1,1,1,1,1,0,0,1,0,0]\n",
    "lama_r_mode_binary = [1,0,0,0,0,0,0,0,0,0,0,0]\n",
    "lama_s_mode_binary = [1,1,1,0,1,0,1,0,0,0,0,1]"
   ]
  },
  {
   "cell_type": "code",
   "execution_count": 92,
   "metadata": {},
   "outputs": [
    {
     "name": "stderr",
     "output_type": "stream",
     "text": [
      "/home/amy/anaconda3/envs/DNA/lib/python3.7/site-packages/seaborn/distributions.py:2557: FutureWarning: `distplot` is a deprecated function and will be removed in a future version. Please adapt your code to use either `displot` (a figure-level function with similar flexibility) or `histplot` (an axes-level function for histograms).\n",
      "  warnings.warn(msg, FutureWarning)\n",
      "/home/amy/anaconda3/envs/DNA/lib/python3.7/site-packages/seaborn/distributions.py:2557: FutureWarning: `distplot` is a deprecated function and will be removed in a future version. Please adapt your code to use either `displot` (a figure-level function with similar flexibility) or `histplot` (an axes-level function for histograms).\n",
      "  warnings.warn(msg, FutureWarning)\n"
     ]
    },
    {
     "name": "stdout",
     "output_type": "stream",
     "text": [
      "51.21951219512195 51.16620498614959\n"
     ]
    },
    {
     "data": {
      "image/png": "[encoded data removed]",
      "text/plain": [
       "<Figure size 432x432 with 1 Axes>"
      ]
     },
     "metadata": {},
     "output_type": "display_data"
    }
   ],
   "source": [
    "# lama errors\n",
    "plt.figure(figsize=(6,6))\n",
    "sns.distplot(df[~((df.r11 == '6') | (df.r12 == '4'))].age,\\\n",
    "             kde_kws={'clip': (18.0, 88.0)})\n",
    "sns.distplot(df[((df.r11 == '6') | (df.r12 == '4'))].age,\\\n",
    "            kde_kws={'clip': (18.0, 88.0)})\n",
    "df[~(df.r2 == '1') | (df.r3 == '3') | (df.r4 == '7') | (df.r10 == '4')].median()\n",
    "df[(df.r2 == '1') | (df.r3 == '3') | (df.r4 == '7') | (df.r10 == '4')].median()\n",
    "df[(df.r2 == '1') | (df.r3 == '3') | (df.r4 == '7') | (df.r10 == '4')].p2.value_counts()\n",
    "df[~(df.r2 == '1') | (df.r3 == '3') | (df.r4 == '7')| (df.r10 == '4')].p2.value_counts()\n",
    "plt.tight_layout()\n",
    "#comparisons\n",
    "lama_errs = df[((df.r11 == '6') | (df.r12 == '4'))]\n",
    "non_lama_errs = df[~((df.r11 == '6') | (df.r12 == '4'))]\n",
    "print(lama_errs.age.mean(), non_lama_errs.age.mean())"
   ]
  },
  {
   "cell_type": "code",
   "execution_count": 205,
   "metadata": {},
   "outputs": [
    {
     "data": {
      "text/plain": [
       "18.725207883494544"
      ]
     },
     "execution_count": 205,
     "metadata": {},
     "output_type": "execute_result"
    }
   ],
   "source": [
    "non_lama_errs.age.std()"
   ]
  },
  {
   "cell_type": "code",
   "execution_count": 204,
   "metadata": {},
   "outputs": [
    {
     "data": {
      "text/plain": [
       "18.71565146491293"
      ]
     },
     "execution_count": 204,
     "metadata": {},
     "output_type": "execute_result"
    }
   ],
   "source": [
    "lama_errs.age.std()"
   ]
  },
  {
   "cell_type": "code",
   "execution_count": 573,
   "metadata": {},
   "outputs": [
    {
     "data": {
      "text/plain": [
       "2.9902727112278606"
      ]
     },
     "execution_count": 573,
     "metadata": {},
     "output_type": "execute_result"
    }
   ],
   "source": [
    "non_lama_errs.educ_years.std()"
   ]
  },
  {
   "cell_type": "code",
   "execution_count": 105,
   "metadata": {},
   "outputs": [
    {
     "name": "stdout",
     "output_type": "stream",
     "text": [
      "gender p-val is:  0.8811063172040992 0.02237026028279817\n",
      "right frontal group p-val is:  0.6520663083731036 0.20330494847977157\n"
     ]
    }
   ],
   "source": [
    "obs = np.array([[17, 24], [159, 202]])\n",
    "chi2, p_val, _, _ = chi2_contingency(obs)\n",
    "print('gender p-val is: ', p_val, chi2)\n",
    "obs = np.array([[9, 32], [64, 297]])\n",
    "chi2, p_val, _, _ = chi2_contingency(obs)\n",
    "print('right frontal group p-val is: ', p_val, chi2)"
   ]
  },
  {
   "cell_type": "code",
   "execution_count": 94,
   "metadata": {},
   "outputs": [
    {
     "name": "stdout",
     "output_type": "stream",
     "text": [
      "\n",
      " age: MannwhitneyuResult(statistic=7433.0, pvalue=0.9637912462084184) \n",
      " nart: MannwhitneyuResult(statistic=6684.0, pvalue=0.8553425546306703) \n",
      " educ_years: MannwhitneyuResult(statistic=7169.5, pvalue=0.8714800399880093)\n"
     ]
    }
   ],
   "source": [
    "age_stats = mannwhitneyu(lama_errs.age, non_lama_errs.age)\n",
    "nart_stats = mannwhitneyu(lama_errs.nart.dropna(), non_lama_errs.nart.dropna())\n",
    "ey_stats = mannwhitneyu(lama_errs.educ_years.dropna(), non_lama_errs.educ_years.dropna())\n",
    "print('\\n age: ' + str(age_stats),\n",
    "      '\\n nart: ' + str(nart_stats), \n",
    "      '\\n educ_years: '+ str(ey_stats))"
   ]
  },
  {
   "cell_type": "code",
   "execution_count": 160,
   "metadata": {},
   "outputs": [
    {
     "name": "stderr",
     "output_type": "stream",
     "text": [
      "/home/amy/anaconda3/envs/DNA/lib/python3.7/site-packages/seaborn/distributions.py:2557: FutureWarning:\n",
      "\n",
      "`distplot` is a deprecated function and will be removed in a future version. Please adapt your code to use either `displot` (a figure-level function with similar flexibility) or `histplot` (an axes-level function for histograms).\n",
      "\n",
      "/home/amy/anaconda3/envs/DNA/lib/python3.7/site-packages/seaborn/distributions.py:2557: FutureWarning:\n",
      "\n",
      "`distplot` is a deprecated function and will be removed in a future version. Please adapt your code to use either `displot` (a figure-level function with similar flexibility) or `histplot` (an axes-level function for histograms).\n",
      "\n"
     ]
    },
    {
     "name": "stdout",
     "output_type": "stream",
     "text": [
      "no with err2: 8  ,no with err3: 12  ,no with err4: 1  ,no with err10: 21\n",
      "58.5 50.36187845303867\n"
     ]
    },
    {
     "data": {
      "image/png": "[encoded data removed]",
      "text/plain": [
       "<Figure size 432x432 with 1 Axes>"
      ]
     },
     "metadata": {},
     "output_type": "display_data"
    }
   ],
   "source": [
    "# lama ablated (regular) errors\n",
    "plt.figure(figsize=(6,6))\n",
    "sns.distplot(df[~((df.r2 == '1') | (df.r3 == '3') | (df.r4 == '7') | (df.r10 == '4'))].age,\\\n",
    "             kde_kws={'clip': (18.0, 88.0)})\n",
    "sns.distplot(df[((df.r2 == '1') | (df.r3 == '3') | (df.r4 == '7')| (df.r10 == '4'))].age,\\\n",
    "            kde_kws={'clip': (18.0, 88.0)})\n",
    "df[~(df.r2 == '1') | (df.r3 == '3') | (df.r4 == '7') | (df.r10 == '4')].median()\n",
    "df[(df.r2 == '1') | (df.r3 == '3') | (df.r4 == '7') | (df.r10 == '4')].median()\n",
    "df[(df.r2 == '1') | (df.r3 == '3') | (df.r4 == '7') | (df.r10 == '4')].p2.value_counts()\n",
    "df[~(df.r2 == '1') | (df.r3 == '3') | (df.r4 == '7')| (df.r10 == '4')].p2.value_counts()\n",
    "print('no with err2:', len(df[df.r2 == '1']), ' ,no with err3:', len(df[df.r3 == '3']),\\\n",
    "      ' ,no with err4:', len(df[df.r4 == '7']), ' ,no with err10:', len(df[df.r10 == '4']))\n",
    "plt.tight_layout()\n",
    "plt.savefig('all_apm_scores_kde_0223.pdf')\n",
    "#comparisons\n",
    "nf_errs = df[((df.r2 == '1') | (df.r3 == '3') | (df.r4 == '7') | (df.r10 == '4'))]\n",
    "non_errs = df[~((df.r2 == '1') | (df.r3 == '3') | (df.r4 == '7')| (df.r10 == '4'))]\n",
    "print(nf_errs.age.mean(), non_errs.age.mean())"
   ]
  },
  {
   "cell_type": "code",
   "execution_count": 223,
   "metadata": {},
   "outputs": [],
   "source": [
    "nf_errs_lesions = nf_errs[nf_errs.group != 1].reset_index(drop=True)\n",
    "non_errs_lesions = non_errs[non_errs.group != 1].reset_index(drop=True)"
   ]
  },
  {
   "cell_type": "code",
   "execution_count": 224,
   "metadata": {},
   "outputs": [],
   "source": [
    "nf_errs_lesions['fourier_error'] = 1\n",
    "non_errs_lesions['fourier_error'] = 0"
   ]
  },
  {
   "cell_type": "code",
   "execution_count": 225,
   "metadata": {},
   "outputs": [],
   "source": [
    "for_james = pd.concat([nf_errs_lesions, non_errs_lesions])\n",
    "for_james.drop(['patient', 'p1', 'p2'], axis=1, inplace=True)\n",
    "for_james.to_csv('fast_fourier_patients.csv', index=False)"
   ]
  },
  {
   "cell_type": "code",
   "execution_count": 162,
   "metadata": {},
   "outputs": [
    {
     "name": "stdout",
     "output_type": "stream",
     "text": [
      "gender p-val is:  0.09392079448987252\n",
      "right frontal group p-val is:  0.0017623172290420256\n"
     ]
    }
   ],
   "source": [
    "obs = np.array([[23, 17], [153, 209]])\n",
    "_, p_val, _, _ = chi2_contingency(obs)\n",
    "print('gender p-val is: ', p_val)\n",
    "obs = np.array([[25, 15], [304, 58]])\n",
    "_, p_val, _, _ = chi2_contingency(obs)\n",
    "print('right frontal group p-val is: ', p_val)"
   ]
  },
  {
   "cell_type": "code",
   "execution_count": 165,
   "metadata": {},
   "outputs": [
    {
     "data": {
      "text/plain": [
       "(array([False, False, False, False, False, False,  True, False, False,\n",
       "        False, False, False, False, False, False]),\n",
       " array([0.1118513 , 0.38119678, 0.96379125, 0.93372861, 0.93372861,\n",
       "        0.28176238, 0.02643476, 0.07043273, 0.49507037, 0.52311876,\n",
       "        0.42887958, 0.48767534, 0.13909397, 0.38119678, 0.31646833]))"
      ]
     },
     "execution_count": 165,
     "metadata": {},
     "output_type": "execute_result"
    }
   ],
   "source": [
    "p_vals_all = np.array([0.02237026028279817, 0.20330494847977157, 0.9637912462084184, 0.8553425546306703, 0.8714800399880093,\n",
    "         0.09392079448987252,0.0017623172290420256, 0.009391030625536813, 0.36305160542124926, 0.4184950050805313,\n",
    "         0.2573277504098882, 0.325116893630749, 0.0370917260726789, 0.18327432305899582, 0.12658733316895246])\n",
    "fdrcorrection(p_vals_all)"
   ]
  },
  {
   "cell_type": "code",
   "execution_count": 108,
   "metadata": {},
   "outputs": [
    {
     "data": {
      "text/plain": [
       "107.11363636363636"
      ]
     },
     "execution_count": 108,
     "metadata": {},
     "output_type": "execute_result"
    }
   ],
   "source": [
    "non_errs.nart.mean()"
   ]
  },
  {
   "cell_type": "code",
   "execution_count": 109,
   "metadata": {},
   "outputs": [
    {
     "data": {
      "text/plain": [
       "10.180067467054117"
      ]
     },
     "execution_count": 109,
     "metadata": {},
     "output_type": "execute_result"
    }
   ],
   "source": [
    "non_errs.nart.std()"
   ]
  },
  {
   "cell_type": "code",
   "execution_count": 163,
   "metadata": {},
   "outputs": [
    {
     "name": "stdout",
     "output_type": "stream",
     "text": [
      "\n",
      " age: MannwhitneyuResult(statistic=9051.5, pvalue=0.009391030625536813) \n",
      " nart: MannwhitneyuResult(statistic=6919.0, pvalue=0.36305160542124926) \n",
      " educ_years: MannwhitneyuResult(statistic=6363.5, pvalue=0.4184950050805313)\n"
     ]
    }
   ],
   "source": [
    "age_stats = mannwhitneyu(nf_errs.age, non_errs.age)\n",
    "nart_stats = mannwhitneyu(nf_errs.nart.dropna(), non_errs.nart.dropna())\n",
    "ey_stats = mannwhitneyu(nf_errs.educ_years.dropna(), non_errs.educ_years.dropna())\n",
    "print('\\n age: ' + str(age_stats),\n",
    "      '\\n nart: ' + str(nart_stats), \n",
    "      '\\n educ_years: '+ str(ey_stats))"
   ]
  },
  {
   "cell_type": "code",
   "execution_count": 100,
   "metadata": {},
   "outputs": [
    {
     "name": "stderr",
     "output_type": "stream",
     "text": [
      "/home/amy/anaconda3/envs/DNA/lib/python3.7/site-packages/seaborn/distributions.py:2557: FutureWarning: `distplot` is a deprecated function and will be removed in a future version. Please adapt your code to use either `displot` (a figure-level function with similar flexibility) or `histplot` (an axes-level function for histograms).\n",
      "  warnings.warn(msg, FutureWarning)\n",
      "/home/amy/anaconda3/envs/DNA/lib/python3.7/site-packages/seaborn/distributions.py:2557: FutureWarning: `distplot` is a deprecated function and will be removed in a future version. Please adapt your code to use either `displot` (a figure-level function with similar flexibility) or `histplot` (an axes-level function for histograms).\n",
      "  warnings.warn(msg, FutureWarning)\n"
     ]
    },
    {
     "data": {
      "text/plain": [
       "<AxesSubplot:xlabel='age', ylabel='Density'>"
      ]
     },
     "execution_count": 100,
     "metadata": {},
     "output_type": "execute_result"
    },
    {
     "data": {
      "image/png": "[encoded data removed]",
      "text/plain": [
       "<Figure size 432x288 with 1 Axes>"
      ]
     },
     "metadata": {},
     "output_type": "display_data"
    }
   ],
   "source": [
    "### lama small errors - 4-2, 6-4, 10-7\n",
    "#errors plot lama small\n",
    "s_errs = df[((df.r4 == '2') | (df.r6 == '4') | (df.r10 == '7'))]\n",
    "non_s_errs = df[~((df.r4 == '2') | (df.r6 == '4') | (df.r10 == '7'))]\n",
    "sns.distplot(df[~((df.r4 == '2') | (df.r6 == '4') | (df.r10 == '7'))].age)\n",
    "sns.distplot(df[((df.r4 == '2') | (df.r6 == '4') | (df.r10 == '7'))].age)"
   ]
  },
  {
   "cell_type": "code",
   "execution_count": 211,
   "metadata": {},
   "outputs": [
    {
     "name": "stdout",
     "output_type": "stream",
     "text": [
      "50.6 (18.8)\n",
      "107.6 (10.0)\n",
      "14.4 (3.0)\n"
     ]
    }
   ],
   "source": [
    "for col in ['age', 'nart', 'educ_years']:\n",
    "    print(str(np.round(non_s_errs[col].mean(), decimals=1)) + ' (' + str(np.round(non_s_errs[col].std(), decimals=1)) + ')')"
   ]
  },
  {
   "cell_type": "code",
   "execution_count": 110,
   "metadata": {},
   "outputs": [
    {
     "name": "stdout",
     "output_type": "stream",
     "text": [
      "gender p-val is:  0.2573277504098882\n",
      "right frontal group p-val is:  0.325116893630749\n"
     ]
    }
   ],
   "source": [
    "obs = np.array([[19, 16], [157, 210]])\n",
    "_, p_val, _, _ = chi2_contingency(obs)\n",
    "print('gender p-val is: ', p_val)\n",
    "obs = np.array([[9, 26], [64, 303]])\n",
    "_, p_val, _, _ = chi2_contingency(obs)\n",
    "print('right frontal group p-val is: ', p_val)"
   ]
  },
  {
   "cell_type": "code",
   "execution_count": 111,
   "metadata": {},
   "outputs": [
    {
     "name": "stdout",
     "output_type": "stream",
     "text": [
      "\n",
      " age: MannwhitneyuResult(statistic=7792.0, pvalue=0.0370917260726789) \n",
      " nart: MannwhitneyuResult(statistic=5335.5, pvalue=0.18327432305899582) \n",
      " educ_years: MannwhitneyuResult(statistic=5145.5, pvalue=0.12658733316895246)\n"
     ]
    }
   ],
   "source": [
    "age_stats = mannwhitneyu(s_errs.age, non_s_errs.age)\n",
    "nart_stats = mannwhitneyu(s_errs.nart.dropna(), non_s_errs.nart.dropna())\n",
    "ey_stats = mannwhitneyu(s_errs.educ_years.dropna(), non_s_errs.educ_years.dropna())\n",
    "print('\\n age: ' + str(age_stats),\n",
    "      '\\n nart: ' + str(nart_stats), \n",
    "      '\\n educ_years: '+ str(ey_stats))"
   ]
  },
  {
   "cell_type": "code",
   "execution_count": 112,
   "metadata": {},
   "outputs": [
    {
     "data": {
      "text/plain": [
       "107.55807365439094"
      ]
     },
     "execution_count": 112,
     "metadata": {},
     "output_type": "execute_result"
    }
   ],
   "source": [
    "non_s_errs.nart.mean()"
   ]
  },
  {
   "cell_type": "code",
   "execution_count": 113,
   "metadata": {},
   "outputs": [
    {
     "data": {
      "text/plain": [
       "9.950025623837064"
      ]
     },
     "execution_count": 113,
     "metadata": {},
     "output_type": "execute_result"
    }
   ],
   "source": [
    "non_s_errs.nart.std()"
   ]
  },
  {
   "cell_type": "code",
   "execution_count": null,
   "metadata": {},
   "outputs": [],
   "source": [
    "output = fdrcorrection(np.array(df_stats_f2).flatten())"
   ]
  },
  {
   "cell_type": "code",
   "execution_count": null,
   "metadata": {},
   "outputs": [],
   "source": [
    "# lama ablated (regular) errors\n",
    "plt.figure(figsize=(6,6))\n",
    "sns.distplot(df[~((df.r2 == '1') | (df.r3 == '3') | (df.r4 == '7') | (df.r10 == '4'))].age,\\\n",
    "             kde_kws={'clip': (18.0, 88.0)})\n",
    "sns.distplot(df[((df.r2 == '1') | (df.r3 == '3') | (df.r4 == '7')| (df.r10 == '4'))].age,\\\n",
    "            kde_kws={'clip': (18.0, 88.0)})\n",
    "df[~(df.r2 == '1') | (df.r3 == '3') | (df.r4 == '7') | (df.r10 == '4')].median()\n",
    "df[(df.r2 == '1') | (df.r3 == '3') | (df.r4 == '7') | (df.r10 == '4')].median()\n",
    "df[(df.r2 == '1') | (df.r3 == '3') | (df.r4 == '7') | (df.r10 == '4')].p2.value_counts()\n",
    "df[~(df.r2 == '1') | (df.r3 == '3') | (df.r4 == '7')| (df.r10 == '4')].p2.value_counts()\n",
    "print('no with err2:', len(df[df.r2 == '1']), ' ,no with err3:', len(df[df.r3 == '3']),\\\n",
    "      ' ,no with err4:', len(df[df.r4 == '7']), ' ,no with err10:', len(df[df.r10 == '4']))\n",
    "plt.tight_layout()\n",
    "plt.savefig('all_apm_scores_kde_0223.pdf')\n",
    "#comparisons\n",
    "nf_errs = df[((df.r2 == '1') | (df.r3 == '3') | (df.r4 == '7') | (df.r10 == '4'))]\n",
    "non_errs = df[~((df.r2 == '1') | (df.r3 == '3') | (df.r4 == '7')| (df.r10 == '4'))]\n",
    "print(nf_errs.age.mean(), non_errs.age.mean())"
   ]
  },
  {
   "cell_type": "code",
   "execution_count": null,
   "metadata": {},
   "outputs": [],
   "source": [
    "###just healthy and right frontals\n",
    "# lama ablated (regular) errors\n",
    "plt.figure(figsize=(6,6))\n",
    "sns.distplot(df[~((df.r2 == '1') | (df.r3 == '3') | (df.r4 == '7') | (df.r10 == '4'))].age,\\\n",
    "             kde_kws={'clip': (18.0, 88.0)})\n",
    "sns.distplot(df[((df.r2 == '1') | (df.r3 == '3') | (df.r4 == '7')| (df.r10 == '4'))].age,\\\n",
    "            kde_kws={'clip': (18.0, 88.0)})\n",
    "df[~(df.r2 == '1') | (df.r3 == '3') | (df.r4 == '7') | (df.r10 == '4')].median()\n",
    "df[(df.r2 == '1') | (df.r3 == '3') | (df.r4 == '7') | (df.r10 == '4')].median()\n",
    "df[(df.r2 == '1') | (df.r3 == '3') | (df.r4 == '7') | (df.r10 == '4')].p2.value_counts()\n",
    "df[~(df.r2 == '1') | (df.r3 == '3') | (df.r4 == '7')| (df.r10 == '4')].p2.value_counts()\n",
    "print('no with err2:', len(df[df.r2 == '1']), ' ,no with err3:', len(df[df.r3 == '3']),\\\n",
    "      ' ,no with err4:', len(df[df.r4 == '7']), ' ,no with err10:', len(df[df.r10 == '4']))\n",
    "plt.tight_layout()\n",
    "plt.savefig('all_apm_scores_kde_0223.pdf')\n",
    "#comparisons\n",
    "nf_errs = df[((df.r2 == '1') | (df.r3 == '3') | (df.r4 == '7') | (df.r10 == '4'))]\n",
    "non_errs = df[~((df.r2 == '1') | (df.r3 == '3') | (df.r4 == '7')| (df.r10 == '4'))]\n",
    "print(nf_errs.age.mean(), non_errs.age.mean())"
   ]
  },
  {
   "cell_type": "markdown",
   "metadata": {},
   "source": [
    "### Animal synapse comparison"
   ]
  },
  {
   "cell_type": "code",
   "execution_count": 148,
   "metadata": {},
   "outputs": [],
   "source": [
    "ani_df = pd.read_csv('animal_synapses.csv')"
   ]
  },
  {
   "cell_type": "code",
   "execution_count": 171,
   "metadata": {},
   "outputs": [],
   "source": [
    "adf = ani_df[ani_df.animal !='LaMa']\n",
    "adf.columns = ['Animal', 'Synapses']"
   ]
  },
  {
   "cell_type": "code",
   "execution_count": 150,
   "metadata": {},
   "outputs": [
    {
     "name": "stderr",
     "output_type": "stream",
     "text": [
      "/home/amy/anaconda3/envs/DNA/lib/python3.7/site-packages/seaborn/_decorators.py:43: FutureWarning: Pass the following variables as keyword args: x, y. From version 0.12, the only valid positional argument will be `data`, and passing other arguments without an explicit keyword will result in an error or misinterpretation.\n",
      "  FutureWarning\n"
     ]
    },
    {
     "data": {
      "image/png": "[encoded data removed]",
      "text/plain": [
       "<Figure size 576x576 with 1 Axes>"
      ]
     },
     "metadata": {},
     "output_type": "display_data"
    }
   ],
   "source": [
    "plt.figure(figsize=(8,8))\n",
    "sns.barplot(adf.animal, adf.synapses).set_yscale(\"log\")"
   ]
  },
  {
   "cell_type": "code",
   "execution_count": 213,
   "metadata": {},
   "outputs": [
    {
     "name": "stderr",
     "output_type": "stream",
     "text": [
      "/home/amy/anaconda3/envs/DNA/lib/python3.7/site-packages/ipykernel_launcher.py:1: SettingWithCopyWarning: \n",
      "A value is trying to be set on a copy of a slice from a DataFrame.\n",
      "Try using .loc[row_indexer,col_indexer] = value instead\n",
      "\n",
      "See the caveats in the documentation: https://pandas.pydata.org/pandas-docs/stable/user_guide/indexing.html#returning-a-view-versus-a-copy\n",
      "  \"\"\"Entry point for launching an IPython kernel.\n"
     ]
    }
   ],
   "source": [
    "adf['Parameters'] = adf['Synapses']"
   ]
  },
  {
   "cell_type": "code",
   "execution_count": 222,
   "metadata": {},
   "outputs": [
    {
     "data": {
      "image/png": "[encoded data removed]",
      "text/plain": [
       "<Figure size 504x288 with 2 Axes>"
      ]
     },
     "metadata": {},
     "output_type": "display_data"
    }
   ],
   "source": [
    "#plt.style.use('ticks')\n",
    "sns.set_theme()\n",
    "sns.set_style(\"ticks\")\n",
    "plt.rcParams['font.sans-serif'] = \"DinPro\"\n",
    "plt.rcParams['font.family'] = \"DinPro\"\n",
    "plt.figure(figsize=(7,4))\n",
    "sns.lineplot(x='Animal', y='Synapses', data=adf, marker='o', linewidth=1, color='k').set_yscale(\"log\")\n",
    "ax2 = plt.twinx()\n",
    "sns.lineplot(x='Animal', y='Parameters', data=adf, ax=ax2, color='k').set_yscale(\"log\")\n",
    "plt.axhline(y=50000000, color='r', linestyle=':') \n",
    "plt.savefig('animal_synapses_log.svg')"
   ]
  },
  {
   "cell_type": "code",
   "execution_count": 175,
   "metadata": {},
   "outputs": [
    {
     "data": {
      "image/png": "[encoded data removed]",
      "text/plain": [
       "<Figure size 504x288 with 1 Axes>"
      ]
     },
     "metadata": {},
     "output_type": "display_data"
    }
   ],
   "source": [
    "plt.figure(figsize=(7,4))\n",
    "sns.lineplot(x='Animal', y='Synapses', data=adf, marker='o', linewidth=5)\n",
    "plt.savefig('animal_synapses.svg')"
   ]
  },
  {
   "cell_type": "markdown",
   "metadata": {},
   "source": [
    "### Lama code\n",
    "\n",
    "from https://github.com/saic-mdal/lama#prediction\n",
    "(inpenv) (base) ➜  lama git:(main) ✗ python3 bin/predict.py model.path=$(pwd)/lama-fourier indir=$(pwd)/apm_deres outdir=$(pwd)/output_deres\n",
    "\n",
    "\n",
    "- (base) ➜  ~ source activate gt\n",
    "(gt) ➜  ~ pip install lama-cleaner\n",
    "\n"
   ]
  },
  {
   "cell_type": "code",
   "execution_count": 260,
   "metadata": {},
   "outputs": [],
   "source": [
    "#create lama infolder: blanks and normal\n",
    "inpath = '/home/amy/Documents/npsy_apm/apm_images/deres_square/'\n",
    "outpath = '/home/amy/lama/input_512/'\n",
    "files = pd.DataFrame([f for f in os.listdir(inpath)if os.path.isfile(os.path.join(inpath, f))])\n",
    "files.columns = ['filename']\n",
    "\n",
    "for i in range(0,10):\n",
    "    for f in files['filename']:\n",
    "        shutil.copyfile(inpath + f, outpath + str(i) + f)"
   ]
  }
 ],
 "metadata": {
  "kernelspec": {
   "display_name": "Python 3 (ipykernel)",
   "language": "python",
   "name": "python3"
  },
  "language_info": {
   "codemirror_mode": {
    "name": "ipython",
    "version": 3
   },
   "file_extension": ".py",
   "mimetype": "text/x-python",
   "name": "python",
   "nbconvert_exporter": "python",
   "pygments_lexer": "ipython3",
   "version": "3.10.12"
  }
 },
 "nbformat": 4,
 "nbformat_minor": 2
}
